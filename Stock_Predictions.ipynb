{
  "nbformat": 4,
  "nbformat_minor": 0,
  "metadata": {
    "colab": {
      "name": "Stock_Predictions.ipynb",
      "provenance": [],
      "mount_file_id": "1k1SJHRQcLqMIW9b74Dn5ch0pUqDdZYM-",
      "authorship_tag": "ABX9TyOHE+tO3eixyscetmajjB6K",
      "include_colab_link": true
    },
    "kernelspec": {
      "name": "python3",
      "display_name": "Python 3"
    },
    "language_info": {
      "name": "python"
    }
  },
  "cells": [
    {
      "cell_type": "markdown",
      "metadata": {
        "id": "view-in-github",
        "colab_type": "text"
      },
      "source": [
        "<a href=\"https://colab.research.google.com/github/MockingJay09/Stock_Predictions/blob/main/Stock_Predictions.ipynb\" target=\"_parent\"><img src=\"https://colab.research.google.com/assets/colab-badge.svg\" alt=\"Open In Colab\"/></a>"
      ]
    },
    {
      "cell_type": "code",
      "source": [
        "# Stock Predictions using Recurrent Neural Network\n",
        "# - HARIKARTHIKEYAN.A\n",
        "# - HARIVIKASH.M\n",
        "# - KARHUNESH.A"
      ],
      "metadata": {
        "id": "40D93nMUPc_0"
      },
      "execution_count": null,
      "outputs": []
    },
    {
      "cell_type": "code",
      "execution_count": 1,
      "metadata": {
        "id": "UvIyIhQTk-3v"
      },
      "outputs": [],
      "source": [
        "import pandas as pd\n",
        "import numpy as np\n",
        "import datetime as dt\n",
        "from datetime import datetime\n",
        "\n",
        "import matplotlib.pyplot as plt\n",
        "\n",
        "import numpy as np\n",
        "\n",
        "\n",
        "from sklearn.preprocessing import MinMaxScaler\n",
        "\n",
        "# Create the Stacked LSTM model\n",
        "from tensorflow.keras.models import Sequential\n",
        "from tensorflow.keras.layers import Dense\n",
        "from tensorflow.keras.layers import LSTM\n",
        "from keras.layers import CuDNNLSTM, Dense, Dropout, LSTM\n",
        "from keras.layers import Dropout\n",
        "from tensorflow.keras.optimizers import Adam"
      ]
    },
    {
      "cell_type": "code",
      "source": [
        "df = pd.read_csv(\"/content/drive/MyDrive/Stock_dataset/RELIANCE.csv\")\n",
        "\n",
        "#print the head\n",
        "df.head()"
      ],
      "metadata": {
        "id": "SFkEvyAflBqA",
        "colab": {
          "base_uri": "https://localhost:8080/",
          "height": 206
        },
        "outputId": "54e97cf6-3090-45ce-8d65-7d2dbce8eb07"
      },
      "execution_count": 2,
      "outputs": [
        {
          "output_type": "execute_result",
          "data": {
            "text/plain": [
              "         Date    Symbol Series  Prev Close    Open    High     Low    Last  \\\n",
              "0  2000-01-03  RELIANCE     EQ      233.05  237.50  251.70  237.50  251.70   \n",
              "1  2000-01-04  RELIANCE     EQ      251.70  258.40  271.85  251.30  271.85   \n",
              "2  2000-01-05  RELIANCE     EQ      271.85  256.65  287.90  256.65  286.75   \n",
              "3  2000-01-06  RELIANCE     EQ      282.50  289.00  300.70  289.00  293.50   \n",
              "4  2000-01-07  RELIANCE     EQ      294.35  295.00  317.90  293.00  314.50   \n",
              "\n",
              "    Close    VWAP    Volume      Turnover  Trades  Deliverable Volume  \\\n",
              "0  251.70  249.37   4456424  1.111319e+14     NaN                 NaN   \n",
              "1  271.85  263.52   9487878  2.500222e+14     NaN                 NaN   \n",
              "2  282.50  274.79  26833684  7.373697e+14     NaN                 NaN   \n",
              "3  294.35  295.45  15682286  4.633254e+14     NaN                 NaN   \n",
              "4  314.55  308.91  19870977  6.138388e+14     NaN                 NaN   \n",
              "\n",
              "   %Deliverble  \n",
              "0          NaN  \n",
              "1          NaN  \n",
              "2          NaN  \n",
              "3          NaN  \n",
              "4          NaN  "
            ],
            "text/html": [
              "\n",
              "  <div id=\"df-20ff9314-937f-408e-82f3-0bb0054a9e1c\">\n",
              "    <div class=\"colab-df-container\">\n",
              "      <div>\n",
              "<style scoped>\n",
              "    .dataframe tbody tr th:only-of-type {\n",
              "        vertical-align: middle;\n",
              "    }\n",
              "\n",
              "    .dataframe tbody tr th {\n",
              "        vertical-align: top;\n",
              "    }\n",
              "\n",
              "    .dataframe thead th {\n",
              "        text-align: right;\n",
              "    }\n",
              "</style>\n",
              "<table border=\"1\" class=\"dataframe\">\n",
              "  <thead>\n",
              "    <tr style=\"text-align: right;\">\n",
              "      <th></th>\n",
              "      <th>Date</th>\n",
              "      <th>Symbol</th>\n",
              "      <th>Series</th>\n",
              "      <th>Prev Close</th>\n",
              "      <th>Open</th>\n",
              "      <th>High</th>\n",
              "      <th>Low</th>\n",
              "      <th>Last</th>\n",
              "      <th>Close</th>\n",
              "      <th>VWAP</th>\n",
              "      <th>Volume</th>\n",
              "      <th>Turnover</th>\n",
              "      <th>Trades</th>\n",
              "      <th>Deliverable Volume</th>\n",
              "      <th>%Deliverble</th>\n",
              "    </tr>\n",
              "  </thead>\n",
              "  <tbody>\n",
              "    <tr>\n",
              "      <th>0</th>\n",
              "      <td>2000-01-03</td>\n",
              "      <td>RELIANCE</td>\n",
              "      <td>EQ</td>\n",
              "      <td>233.05</td>\n",
              "      <td>237.50</td>\n",
              "      <td>251.70</td>\n",
              "      <td>237.50</td>\n",
              "      <td>251.70</td>\n",
              "      <td>251.70</td>\n",
              "      <td>249.37</td>\n",
              "      <td>4456424</td>\n",
              "      <td>1.111319e+14</td>\n",
              "      <td>NaN</td>\n",
              "      <td>NaN</td>\n",
              "      <td>NaN</td>\n",
              "    </tr>\n",
              "    <tr>\n",
              "      <th>1</th>\n",
              "      <td>2000-01-04</td>\n",
              "      <td>RELIANCE</td>\n",
              "      <td>EQ</td>\n",
              "      <td>251.70</td>\n",
              "      <td>258.40</td>\n",
              "      <td>271.85</td>\n",
              "      <td>251.30</td>\n",
              "      <td>271.85</td>\n",
              "      <td>271.85</td>\n",
              "      <td>263.52</td>\n",
              "      <td>9487878</td>\n",
              "      <td>2.500222e+14</td>\n",
              "      <td>NaN</td>\n",
              "      <td>NaN</td>\n",
              "      <td>NaN</td>\n",
              "    </tr>\n",
              "    <tr>\n",
              "      <th>2</th>\n",
              "      <td>2000-01-05</td>\n",
              "      <td>RELIANCE</td>\n",
              "      <td>EQ</td>\n",
              "      <td>271.85</td>\n",
              "      <td>256.65</td>\n",
              "      <td>287.90</td>\n",
              "      <td>256.65</td>\n",
              "      <td>286.75</td>\n",
              "      <td>282.50</td>\n",
              "      <td>274.79</td>\n",
              "      <td>26833684</td>\n",
              "      <td>7.373697e+14</td>\n",
              "      <td>NaN</td>\n",
              "      <td>NaN</td>\n",
              "      <td>NaN</td>\n",
              "    </tr>\n",
              "    <tr>\n",
              "      <th>3</th>\n",
              "      <td>2000-01-06</td>\n",
              "      <td>RELIANCE</td>\n",
              "      <td>EQ</td>\n",
              "      <td>282.50</td>\n",
              "      <td>289.00</td>\n",
              "      <td>300.70</td>\n",
              "      <td>289.00</td>\n",
              "      <td>293.50</td>\n",
              "      <td>294.35</td>\n",
              "      <td>295.45</td>\n",
              "      <td>15682286</td>\n",
              "      <td>4.633254e+14</td>\n",
              "      <td>NaN</td>\n",
              "      <td>NaN</td>\n",
              "      <td>NaN</td>\n",
              "    </tr>\n",
              "    <tr>\n",
              "      <th>4</th>\n",
              "      <td>2000-01-07</td>\n",
              "      <td>RELIANCE</td>\n",
              "      <td>EQ</td>\n",
              "      <td>294.35</td>\n",
              "      <td>295.00</td>\n",
              "      <td>317.90</td>\n",
              "      <td>293.00</td>\n",
              "      <td>314.50</td>\n",
              "      <td>314.55</td>\n",
              "      <td>308.91</td>\n",
              "      <td>19870977</td>\n",
              "      <td>6.138388e+14</td>\n",
              "      <td>NaN</td>\n",
              "      <td>NaN</td>\n",
              "      <td>NaN</td>\n",
              "    </tr>\n",
              "  </tbody>\n",
              "</table>\n",
              "</div>\n",
              "      <button class=\"colab-df-convert\" onclick=\"convertToInteractive('df-20ff9314-937f-408e-82f3-0bb0054a9e1c')\"\n",
              "              title=\"Convert this dataframe to an interactive table.\"\n",
              "              style=\"display:none;\">\n",
              "        \n",
              "  <svg xmlns=\"http://www.w3.org/2000/svg\" height=\"24px\"viewBox=\"0 0 24 24\"\n",
              "       width=\"24px\">\n",
              "    <path d=\"M0 0h24v24H0V0z\" fill=\"none\"/>\n",
              "    <path d=\"M18.56 5.44l.94 2.06.94-2.06 2.06-.94-2.06-.94-.94-2.06-.94 2.06-2.06.94zm-11 1L8.5 8.5l.94-2.06 2.06-.94-2.06-.94L8.5 2.5l-.94 2.06-2.06.94zm10 10l.94 2.06.94-2.06 2.06-.94-2.06-.94-.94-2.06-.94 2.06-2.06.94z\"/><path d=\"M17.41 7.96l-1.37-1.37c-.4-.4-.92-.59-1.43-.59-.52 0-1.04.2-1.43.59L10.3 9.45l-7.72 7.72c-.78.78-.78 2.05 0 2.83L4 21.41c.39.39.9.59 1.41.59.51 0 1.02-.2 1.41-.59l7.78-7.78 2.81-2.81c.8-.78.8-2.07 0-2.86zM5.41 20L4 18.59l7.72-7.72 1.47 1.35L5.41 20z\"/>\n",
              "  </svg>\n",
              "      </button>\n",
              "      \n",
              "  <style>\n",
              "    .colab-df-container {\n",
              "      display:flex;\n",
              "      flex-wrap:wrap;\n",
              "      gap: 12px;\n",
              "    }\n",
              "\n",
              "    .colab-df-convert {\n",
              "      background-color: #E8F0FE;\n",
              "      border: none;\n",
              "      border-radius: 50%;\n",
              "      cursor: pointer;\n",
              "      display: none;\n",
              "      fill: #1967D2;\n",
              "      height: 32px;\n",
              "      padding: 0 0 0 0;\n",
              "      width: 32px;\n",
              "    }\n",
              "\n",
              "    .colab-df-convert:hover {\n",
              "      background-color: #E2EBFA;\n",
              "      box-shadow: 0px 1px 2px rgba(60, 64, 67, 0.3), 0px 1px 3px 1px rgba(60, 64, 67, 0.15);\n",
              "      fill: #174EA6;\n",
              "    }\n",
              "\n",
              "    [theme=dark] .colab-df-convert {\n",
              "      background-color: #3B4455;\n",
              "      fill: #D2E3FC;\n",
              "    }\n",
              "\n",
              "    [theme=dark] .colab-df-convert:hover {\n",
              "      background-color: #434B5C;\n",
              "      box-shadow: 0px 1px 3px 1px rgba(0, 0, 0, 0.15);\n",
              "      filter: drop-shadow(0px 1px 2px rgba(0, 0, 0, 0.3));\n",
              "      fill: #FFFFFF;\n",
              "    }\n",
              "  </style>\n",
              "\n",
              "      <script>\n",
              "        const buttonEl =\n",
              "          document.querySelector('#df-20ff9314-937f-408e-82f3-0bb0054a9e1c button.colab-df-convert');\n",
              "        buttonEl.style.display =\n",
              "          google.colab.kernel.accessAllowed ? 'block' : 'none';\n",
              "\n",
              "        async function convertToInteractive(key) {\n",
              "          const element = document.querySelector('#df-20ff9314-937f-408e-82f3-0bb0054a9e1c');\n",
              "          const dataTable =\n",
              "            await google.colab.kernel.invokeFunction('convertToInteractive',\n",
              "                                                     [key], {});\n",
              "          if (!dataTable) return;\n",
              "\n",
              "          const docLinkHtml = 'Like what you see? Visit the ' +\n",
              "            '<a target=\"_blank\" href=https://colab.research.google.com/notebooks/data_table.ipynb>data table notebook</a>'\n",
              "            + ' to learn more about interactive tables.';\n",
              "          element.innerHTML = '';\n",
              "          dataTable['output_type'] = 'display_data';\n",
              "          await google.colab.output.renderOutput(dataTable, element);\n",
              "          const docLink = document.createElement('div');\n",
              "          docLink.innerHTML = docLinkHtml;\n",
              "          element.appendChild(docLink);\n",
              "        }\n",
              "      </script>\n",
              "    </div>\n",
              "  </div>\n",
              "  "
            ]
          },
          "metadata": {},
          "execution_count": 2
        }
      ]
    },
    {
      "cell_type": "code",
      "source": [
        "#setting index as date\n",
        "df['Date'] = pd.to_datetime(df.Date,format='%Y-%m-%d')\n",
        "df.index = df['Date']\n",
        "\n",
        "#plot\n",
        "plt.figure(figsize=(20,8))\n",
        "plt.plot(df['Close'], label='Historical Close Price')"
      ],
      "metadata": {
        "id": "5GAvi8rylFxP",
        "colab": {
          "base_uri": "https://localhost:8080/",
          "height": 500
        },
        "outputId": "48337806-6207-4a29-e095-02fd141104ff"
      },
      "execution_count": 3,
      "outputs": [
        {
          "output_type": "execute_result",
          "data": {
            "text/plain": [
              "[<matplotlib.lines.Line2D at 0x7f68bef3eb10>]"
            ]
          },
          "metadata": {},
          "execution_count": 3
        },
        {
          "output_type": "display_data",
          "data": {
            "text/plain": [
              "<Figure size 1440x576 with 1 Axes>"
            ],
            "image/png": "[encoded data removed]"
          },
          "metadata": {
            "needs_background": "light"
          }
        }
      ]
    },
    {
      "cell_type": "code",
      "source": [
        "features = [\"Date\", \"Close\"]\n",
        "all_data = df[features]\n",
        "\n",
        "\n",
        "all_data.index = all_data.Date\n",
        "all_data.drop('Date', axis=1, inplace=True)"
      ],
      "metadata": {
        "colab": {
          "base_uri": "https://localhost:8080/"
        },
        "id": "fPgcfl5FlHRq",
        "outputId": "dad680c3-e10c-4e33-bb88-4e09eeab1452"
      },
      "execution_count": 4,
      "outputs": [
        {
          "output_type": "stream",
          "name": "stderr",
          "text": [
            "/usr/local/lib/python3.7/dist-packages/pandas/core/frame.py:4913: SettingWithCopyWarning: \n",
            "A value is trying to be set on a copy of a slice from a DataFrame\n",
            "\n",
            "See the caveats in the documentation: https://pandas.pydata.org/pandas-docs/stable/user_guide/indexing.html#returning-a-view-versus-a-copy\n",
            "  errors=errors,\n"
          ]
        }
      ]
    },
    {
      "cell_type": "code",
      "source": [
        "all_data.head()"
      ],
      "metadata": {
        "colab": {
          "base_uri": "https://localhost:8080/",
          "height": 238
        },
        "id": "9YgEOkXwlKk7",
        "outputId": "f86f9b08-caea-4736-90d8-6701fcc52969"
      },
      "execution_count": 5,
      "outputs": [
        {
          "output_type": "execute_result",
          "data": {
            "text/plain": [
              "             Close\n",
              "Date              \n",
              "2000-01-03  251.70\n",
              "2000-01-04  271.85\n",
              "2000-01-05  282.50\n",
              "2000-01-06  294.35\n",
              "2000-01-07  314.55"
            ],
            "text/html": [
              "\n",
              "  <div id=\"df-b13f2aef-1142-48e4-81d6-3d219a1cf342\">\n",
              "    <div class=\"colab-df-container\">\n",
              "      <div>\n",
              "<style scoped>\n",
              "    .dataframe tbody tr th:only-of-type {\n",
              "        vertical-align: middle;\n",
              "    }\n",
              "\n",
              "    .dataframe tbody tr th {\n",
              "        vertical-align: top;\n",
              "    }\n",
              "\n",
              "    .dataframe thead th {\n",
              "        text-align: right;\n",
              "    }\n",
              "</style>\n",
              "<table border=\"1\" class=\"dataframe\">\n",
              "  <thead>\n",
              "    <tr style=\"text-align: right;\">\n",
              "      <th></th>\n",
              "      <th>Close</th>\n",
              "    </tr>\n",
              "    <tr>\n",
              "      <th>Date</th>\n",
              "      <th></th>\n",
              "    </tr>\n",
              "  </thead>\n",
              "  <tbody>\n",
              "    <tr>\n",
              "      <th>2000-01-03</th>\n",
              "      <td>251.70</td>\n",
              "    </tr>\n",
              "    <tr>\n",
              "      <th>2000-01-04</th>\n",
              "      <td>271.85</td>\n",
              "    </tr>\n",
              "    <tr>\n",
              "      <th>2000-01-05</th>\n",
              "      <td>282.50</td>\n",
              "    </tr>\n",
              "    <tr>\n",
              "      <th>2000-01-06</th>\n",
              "      <td>294.35</td>\n",
              "    </tr>\n",
              "    <tr>\n",
              "      <th>2000-01-07</th>\n",
              "      <td>314.55</td>\n",
              "    </tr>\n",
              "  </tbody>\n",
              "</table>\n",
              "</div>\n",
              "      <button class=\"colab-df-convert\" onclick=\"convertToInteractive('df-b13f2aef-1142-48e4-81d6-3d219a1cf342')\"\n",
              "              title=\"Convert this dataframe to an interactive table.\"\n",
              "              style=\"display:none;\">\n",
              "        \n",
              "  <svg xmlns=\"http://www.w3.org/2000/svg\" height=\"24px\"viewBox=\"0 0 24 24\"\n",
              "       width=\"24px\">\n",
              "    <path d=\"M0 0h24v24H0V0z\" fill=\"none\"/>\n",
              "    <path d=\"M18.56 5.44l.94 2.06.94-2.06 2.06-.94-2.06-.94-.94-2.06-.94 2.06-2.06.94zm-11 1L8.5 8.5l.94-2.06 2.06-.94-2.06-.94L8.5 2.5l-.94 2.06-2.06.94zm10 10l.94 2.06.94-2.06 2.06-.94-2.06-.94-.94-2.06-.94 2.06-2.06.94z\"/><path d=\"M17.41 7.96l-1.37-1.37c-.4-.4-.92-.59-1.43-.59-.52 0-1.04.2-1.43.59L10.3 9.45l-7.72 7.72c-.78.78-.78 2.05 0 2.83L4 21.41c.39.39.9.59 1.41.59.51 0 1.02-.2 1.41-.59l7.78-7.78 2.81-2.81c.8-.78.8-2.07 0-2.86zM5.41 20L4 18.59l7.72-7.72 1.47 1.35L5.41 20z\"/>\n",
              "  </svg>\n",
              "      </button>\n",
              "      \n",
              "  <style>\n",
              "    .colab-df-container {\n",
              "      display:flex;\n",
              "      flex-wrap:wrap;\n",
              "      gap: 12px;\n",
              "    }\n",
              "\n",
              "    .colab-df-convert {\n",
              "      background-color: #E8F0FE;\n",
              "      border: none;\n",
              "      border-radius: 50%;\n",
              "      cursor: pointer;\n",
              "      display: none;\n",
              "      fill: #1967D2;\n",
              "      height: 32px;\n",
              "      padding: 0 0 0 0;\n",
              "      width: 32px;\n",
              "    }\n",
              "\n",
              "    .colab-df-convert:hover {\n",
              "      background-color: #E2EBFA;\n",
              "      box-shadow: 0px 1px 2px rgba(60, 64, 67, 0.3), 0px 1px 3px 1px rgba(60, 64, 67, 0.15);\n",
              "      fill: #174EA6;\n",
              "    }\n",
              "\n",
              "    [theme=dark] .colab-df-convert {\n",
              "      background-color: #3B4455;\n",
              "      fill: #D2E3FC;\n",
              "    }\n",
              "\n",
              "    [theme=dark] .colab-df-convert:hover {\n",
              "      background-color: #434B5C;\n",
              "      box-shadow: 0px 1px 3px 1px rgba(0, 0, 0, 0.15);\n",
              "      filter: drop-shadow(0px 1px 2px rgba(0, 0, 0, 0.3));\n",
              "      fill: #FFFFFF;\n",
              "    }\n",
              "  </style>\n",
              "\n",
              "      <script>\n",
              "        const buttonEl =\n",
              "          document.querySelector('#df-b13f2aef-1142-48e4-81d6-3d219a1cf342 button.colab-df-convert');\n",
              "        buttonEl.style.display =\n",
              "          google.colab.kernel.accessAllowed ? 'block' : 'none';\n",
              "\n",
              "        async function convertToInteractive(key) {\n",
              "          const element = document.querySelector('#df-b13f2aef-1142-48e4-81d6-3d219a1cf342');\n",
              "          const dataTable =\n",
              "            await google.colab.kernel.invokeFunction('convertToInteractive',\n",
              "                                                     [key], {});\n",
              "          if (!dataTable) return;\n",
              "\n",
              "          const docLinkHtml = 'Like what you see? Visit the ' +\n",
              "            '<a target=\"_blank\" href=https://colab.research.google.com/notebooks/data_table.ipynb>data table notebook</a>'\n",
              "            + ' to learn more about interactive tables.';\n",
              "          element.innerHTML = '';\n",
              "          dataTable['output_type'] = 'display_data';\n",
              "          await google.colab.output.renderOutput(dataTable, element);\n",
              "          const docLink = document.createElement('div');\n",
              "          docLink.innerHTML = docLinkHtml;\n",
              "          element.appendChild(docLink);\n",
              "        }\n",
              "      </script>\n",
              "    </div>\n",
              "  </div>\n",
              "  "
            ]
          },
          "metadata": {},
          "execution_count": 5
        }
      ]
    },
    {
      "cell_type": "code",
      "source": [
        "#creating training and validation sets\n",
        "dataset = all_data.values\n",
        "\n",
        "train = dataset[2000:4500,:]\n",
        "valid = dataset[4500:,:]"
      ],
      "metadata": {
        "id": "RvOXKRgvlKfW"
      },
      "execution_count": 6,
      "outputs": []
    },
    {
      "cell_type": "code",
      "source": [
        "scaler = MinMaxScaler(feature_range=(0, 1))\n",
        "scaled_data = scaler.fit_transform(dataset)\n",
        "scaled_data"
      ],
      "metadata": {
        "colab": {
          "base_uri": "https://localhost:8080/"
        },
        "id": "d_qp-77OlOWB",
        "outputId": "4c41d932-6e31-4697-facc-4768df319aa1"
      },
      "execution_count": 7,
      "outputs": [
        {
          "output_type": "execute_result",
          "data": {
            "text/plain": [
              "array([[0.01607211],\n",
              "       [0.02274949],\n",
              "       [0.02627873],\n",
              "       ...,\n",
              "       [0.59453548],\n",
              "       [0.6034    ],\n",
              "       [0.59360761]])"
            ]
          },
          "metadata": {},
          "execution_count": 7
        }
      ]
    },
    {
      "cell_type": "code",
      "source": [
        "x_train, y_train = [], []\n",
        "x_test, y_test = [], []\n",
        "\n",
        "for i in range(90,len(train)):\n",
        "    x_train.append(scaled_data[i-90:i,0])\n",
        "    y_train.append(scaled_data[i,0])\n",
        "\n",
        "for i in range(90,len(valid)):\n",
        "    x_test.append(scaled_data[i-90:i,0])\n",
        "    y_test.append(scaled_data[i,0])\n",
        "\n",
        "x_train, y_train = np.array(x_train), np.array(y_train)\n",
        "x_test, y_test = np.array(x_test),np.array(y_test)"
      ],
      "metadata": {
        "id": "YawbZUfRlQEc"
      },
      "execution_count": 8,
      "outputs": []
    },
    {
      "cell_type": "code",
      "source": [
        "x_train = np.reshape(x_train, (x_train.shape[0],x_train.shape[1],1))\n",
        "x_test = np.reshape(x_test, (x_test.shape[0],x_test.shape[1],1))"
      ],
      "metadata": {
        "id": "_F5iGh7-lRht"
      },
      "execution_count": 9,
      "outputs": []
    },
    {
      "cell_type": "code",
      "source": [
        "# create and fit the LSTM network\n",
        "model = Sequential()\n",
        "\n",
        "#Adding the input LSTM network layer\n",
        "model.add(LSTM(128, input_shape=(x_train.shape[1:]), return_sequences=True))\n",
        "model.add(Dropout(0.2))\n",
        "\n",
        "model.add(Dense(64, activation='relu'))\n",
        "model.add(Dropout(0.2))\n",
        "\n",
        "#Adding a second LSTM network layer\n",
        "model.add(LSTM(128))\n",
        "\n",
        "#Adding a dense hidden layer\n",
        "model.add(Dense(64, activation='relu'))\n",
        "model.add(Dropout(0.2))\n",
        "\n",
        "#Adding the output layer\n",
        "model.add(Dense(1))\n"
      ],
      "metadata": {
        "id": "mZCw3quIlSBL"
      },
      "execution_count": 28,
      "outputs": []
    },
    {
      "cell_type": "code",
      "source": [
        "model.compile( loss='mean_squared_logarithmic_error',\n",
        "              optimizer=Adam(lr=0.001))"
      ],
      "metadata": {
        "colab": {
          "base_uri": "https://localhost:8080/"
        },
        "id": "SeMe5BjtlTph",
        "outputId": "2e9f7537-f90c-42dc-da86-79f6be46e43b"
      },
      "execution_count": 29,
      "outputs": [
        {
          "output_type": "stream",
          "name": "stderr",
          "text": [
            "/usr/local/lib/python3.7/dist-packages/keras/optimizer_v2/adam.py:105: UserWarning: The `lr` argument is deprecated, use `learning_rate` instead.\n",
            "  super(Adam, self).__init__(name, **kwargs)\n"
          ]
        }
      ]
    },
    {
      "cell_type": "code",
      "source": [
        "model.fit(x_train,\n",
        "         y_train,\n",
        "          epochs=50,\n",
        "          validation_data=(x_test, y_test))"
      ],
      "metadata": {
        "id": "nV57BCJqAJEp",
        "colab": {
          "base_uri": "https://localhost:8080/"
        },
        "outputId": "5f73c36f-9149-43fd-ecbd-911dbd57908d"
      },
      "execution_count": 30,
      "outputs": [
        {
          "output_type": "stream",
          "name": "stdout",
          "text": [
            "Epoch 1/50\n",
            "76/76 [==============================] - 21s 221ms/step - loss: 0.0042 - val_loss: 1.8594e-04\n",
            "Epoch 2/50\n",
            "76/76 [==============================] - 17s 221ms/step - loss: 0.0012 - val_loss: 4.8717e-05\n",
            "Epoch 3/50\n",
            "76/76 [==============================] - 18s 235ms/step - loss: 9.1159e-04 - val_loss: 2.9827e-05\n",
            "Epoch 4/50\n",
            "76/76 [==============================] - 16s 209ms/step - loss: 0.0011 - val_loss: 8.1104e-05\n",
            "Epoch 5/50\n",
            "76/76 [==============================] - 16s 209ms/step - loss: 9.5659e-04 - val_loss: 1.0177e-04\n",
            "Epoch 6/50\n",
            "76/76 [==============================] - 16s 210ms/step - loss: 8.4968e-04 - val_loss: 5.5631e-05\n",
            "Epoch 7/50\n",
            "76/76 [==============================] - 16s 209ms/step - loss: 7.6240e-04 - val_loss: 8.9585e-05\n",
            "Epoch 8/50\n",
            "76/76 [==============================] - 17s 222ms/step - loss: 7.8537e-04 - val_loss: 1.4841e-04\n",
            "Epoch 9/50\n",
            "76/76 [==============================] - 16s 208ms/step - loss: 7.4446e-04 - val_loss: 4.6566e-05\n",
            "Epoch 10/50\n",
            "76/76 [==============================] - 16s 210ms/step - loss: 7.8160e-04 - val_loss: 4.6163e-05\n",
            "Epoch 11/50\n",
            "76/76 [==============================] - 16s 209ms/step - loss: 7.6345e-04 - val_loss: 3.1428e-05\n",
            "Epoch 12/50\n",
            "76/76 [==============================] - 16s 209ms/step - loss: 6.5027e-04 - val_loss: 4.7074e-05\n",
            "Epoch 13/50\n",
            "76/76 [==============================] - 16s 208ms/step - loss: 6.5642e-04 - val_loss: 3.4594e-05\n",
            "Epoch 14/50\n",
            "76/76 [==============================] - 16s 208ms/step - loss: 6.8504e-04 - val_loss: 1.1007e-04\n",
            "Epoch 15/50\n",
            "76/76 [==============================] - 16s 209ms/step - loss: 7.4078e-04 - val_loss: 3.4722e-04\n",
            "Epoch 16/50\n",
            "76/76 [==============================] - 16s 211ms/step - loss: 6.4743e-04 - val_loss: 6.4234e-05\n",
            "Epoch 17/50\n",
            "76/76 [==============================] - 16s 208ms/step - loss: 6.3421e-04 - val_loss: 5.1146e-05\n",
            "Epoch 18/50\n",
            "76/76 [==============================] - 16s 210ms/step - loss: 6.3352e-04 - val_loss: 1.0134e-04\n",
            "Epoch 19/50\n",
            "76/76 [==============================] - 16s 209ms/step - loss: 6.0049e-04 - val_loss: 2.3513e-05\n",
            "Epoch 20/50\n",
            "76/76 [==============================] - 16s 208ms/step - loss: 5.9890e-04 - val_loss: 1.8989e-05\n",
            "Epoch 21/50\n",
            "76/76 [==============================] - 16s 208ms/step - loss: 6.6959e-04 - val_loss: 7.2819e-05\n",
            "Epoch 22/50\n",
            "76/76 [==============================] - 16s 208ms/step - loss: 5.9187e-04 - val_loss: 1.3729e-04\n",
            "Epoch 23/50\n",
            "76/76 [==============================] - 16s 208ms/step - loss: 5.5790e-04 - val_loss: 4.2921e-05\n",
            "Epoch 24/50\n",
            "76/76 [==============================] - 16s 209ms/step - loss: 6.4209e-04 - val_loss: 2.0698e-05\n",
            "Epoch 25/50\n",
            "76/76 [==============================] - 16s 210ms/step - loss: 6.8123e-04 - val_loss: 5.7121e-05\n",
            "Epoch 26/50\n",
            "76/76 [==============================] - 16s 208ms/step - loss: 6.3976e-04 - val_loss: 3.7301e-05\n",
            "Epoch 27/50\n",
            "76/76 [==============================] - 16s 209ms/step - loss: 5.7063e-04 - val_loss: 6.6600e-05\n",
            "Epoch 28/50\n",
            "76/76 [==============================] - 16s 207ms/step - loss: 6.0022e-04 - val_loss: 2.0603e-05\n",
            "Epoch 29/50\n",
            "76/76 [==============================] - 16s 208ms/step - loss: 5.8269e-04 - val_loss: 1.6631e-05\n",
            "Epoch 30/50\n",
            "76/76 [==============================] - 16s 208ms/step - loss: 5.2427e-04 - val_loss: 1.5590e-05\n",
            "Epoch 31/50\n",
            "76/76 [==============================] - 16s 209ms/step - loss: 5.4292e-04 - val_loss: 1.5747e-05\n",
            "Epoch 32/50\n",
            "76/76 [==============================] - 16s 207ms/step - loss: 5.0876e-04 - val_loss: 5.8119e-05\n",
            "Epoch 33/50\n",
            "76/76 [==============================] - 16s 209ms/step - loss: 5.7844e-04 - val_loss: 2.5326e-04\n",
            "Epoch 34/50\n",
            "76/76 [==============================] - 16s 207ms/step - loss: 5.1536e-04 - val_loss: 2.8895e-05\n",
            "Epoch 35/50\n",
            "76/76 [==============================] - 16s 209ms/step - loss: 5.6929e-04 - val_loss: 2.0368e-04\n",
            "Epoch 36/50\n",
            "76/76 [==============================] - 16s 212ms/step - loss: 5.0294e-04 - val_loss: 1.6002e-05\n",
            "Epoch 37/50\n",
            "76/76 [==============================] - 16s 209ms/step - loss: 5.8057e-04 - val_loss: 4.5142e-05\n",
            "Epoch 38/50\n",
            "76/76 [==============================] - 16s 207ms/step - loss: 5.2375e-04 - val_loss: 1.5662e-04\n",
            "Epoch 39/50\n",
            "76/76 [==============================] - 16s 209ms/step - loss: 5.3666e-04 - val_loss: 4.3262e-05\n",
            "Epoch 40/50\n",
            "76/76 [==============================] - 16s 208ms/step - loss: 4.7895e-04 - val_loss: 9.0604e-05\n",
            "Epoch 41/50\n",
            "76/76 [==============================] - 16s 209ms/step - loss: 4.7176e-04 - val_loss: 8.5315e-05\n",
            "Epoch 42/50\n",
            "76/76 [==============================] - 16s 209ms/step - loss: 4.7610e-04 - val_loss: 4.3752e-05\n",
            "Epoch 43/50\n",
            "76/76 [==============================] - 16s 209ms/step - loss: 5.0901e-04 - val_loss: 1.5276e-05\n",
            "Epoch 44/50\n",
            "76/76 [==============================] - 16s 208ms/step - loss: 5.6462e-04 - val_loss: 5.5442e-05\n",
            "Epoch 45/50\n",
            "76/76 [==============================] - 16s 207ms/step - loss: 5.5528e-04 - val_loss: 2.9132e-05\n",
            "Epoch 46/50\n",
            "76/76 [==============================] - 16s 208ms/step - loss: 5.0903e-04 - val_loss: 3.7945e-05\n",
            "Epoch 47/50\n",
            "76/76 [==============================] - 16s 207ms/step - loss: 5.3345e-04 - val_loss: 2.1164e-05\n",
            "Epoch 48/50\n",
            "76/76 [==============================] - 16s 207ms/step - loss: 4.7519e-04 - val_loss: 1.0510e-04\n",
            "Epoch 49/50\n",
            "76/76 [==============================] - 16s 209ms/step - loss: 5.6647e-04 - val_loss: 1.0206e-04\n",
            "Epoch 50/50\n",
            "76/76 [==============================] - 16s 210ms/step - loss: 4.8427e-04 - val_loss: 1.0854e-04\n"
          ]
        },
        {
          "output_type": "execute_result",
          "data": {
            "text/plain": [
              "<keras.callbacks.History at 0x7f68aaf112d0>"
            ]
          },
          "metadata": {},
          "execution_count": 30
        }
      ]
    },
    {
      "cell_type": "code",
      "source": [
        "inputs = all_data[len(all_data) - len(valid)-90:].values\n",
        "inputs = inputs.reshape(-1,1)\n",
        "inputs  = scaler.transform(inputs)"
      ],
      "metadata": {
        "id": "IifLPIq1yPIU"
      },
      "execution_count": 31,
      "outputs": []
    },
    {
      "cell_type": "code",
      "source": [
        "inputs.shape"
      ],
      "metadata": {
        "colab": {
          "base_uri": "https://localhost:8080/"
        },
        "id": "xWh24foL43O3",
        "outputId": "7990216d-b0ab-45dc-8efc-e28e8ea49bd3"
      },
      "execution_count": 32,
      "outputs": [
        {
          "output_type": "execute_result",
          "data": {
            "text/plain": [
              "(896, 1)"
            ]
          },
          "metadata": {},
          "execution_count": 32
        }
      ]
    },
    {
      "cell_type": "code",
      "source": [
        "X_test = []\n",
        "for i in range(90,inputs.shape[0]):\n",
        "    X_test.append(inputs[i-90:i,0])\n",
        "\n",
        "X_test = np.array(X_test)"
      ],
      "metadata": {
        "id": "q-ghgZ-e45cr"
      },
      "execution_count": 33,
      "outputs": []
    },
    {
      "cell_type": "code",
      "source": [
        "X_test"
      ],
      "metadata": {
        "colab": {
          "base_uri": "https://localhost:8080/"
        },
        "id": "t3-rkGMH46QH",
        "outputId": "a8385398-137d-4a83-be22-18a57e297543"
      },
      "execution_count": 34,
      "outputs": [
        {
          "output_type": "execute_result",
          "data": {
            "text/plain": [
              "array([[0.21162163, 0.21286431, 0.2105612 , ..., 0.24128047, 0.25460209,\n",
              "        0.25849585],\n",
              "       [0.21286431, 0.2105612 , 0.21339453, ..., 0.25460209, 0.25849585,\n",
              "        0.25289547],\n",
              "       [0.2105612 , 0.21339453, 0.2114725 , ..., 0.25849585, 0.25289547,\n",
              "        0.25274634],\n",
              "       ...,\n",
              "       [0.59254718, 0.58693023, 0.58765927, ..., 0.56373337, 0.57483472,\n",
              "        0.59166901],\n",
              "       [0.58693023, 0.58765927, 0.59065829, ..., 0.57483472, 0.59166901,\n",
              "        0.59453548],\n",
              "       [0.58765927, 0.59065829, 0.59263003, ..., 0.59166901, 0.59453548,\n",
              "        0.6034    ]])"
            ]
          },
          "metadata": {},
          "execution_count": 34
        }
      ]
    },
    {
      "cell_type": "code",
      "source": [
        "X_test.shape"
      ],
      "metadata": {
        "colab": {
          "base_uri": "https://localhost:8080/"
        },
        "id": "JL1g3hu09HWc",
        "outputId": "bf4f46cf-7424-4d7e-93bd-6e1346e9587c"
      },
      "execution_count": 35,
      "outputs": [
        {
          "output_type": "execute_result",
          "data": {
            "text/plain": [
              "(806, 90)"
            ]
          },
          "metadata": {},
          "execution_count": 35
        }
      ]
    },
    {
      "cell_type": "code",
      "source": [
        "X_test = np.reshape(X_test, (X_test.shape[0],X_test.shape[1],1))\n",
        "preds = model.predict(X_test)\n",
        "\n",
        "preds = scaler.inverse_transform(preds)"
      ],
      "metadata": {
        "id": "GxQ8qRE54_AB"
      },
      "execution_count": 36,
      "outputs": []
    },
    {
      "cell_type": "code",
      "source": [
        "preds.shape"
      ],
      "metadata": {
        "colab": {
          "base_uri": "https://localhost:8080/"
        },
        "id": "7kM238dY5CBB",
        "outputId": "b36b3b92-c10f-42fc-cf32-4db0a51bc7a8"
      },
      "execution_count": 37,
      "outputs": [
        {
          "output_type": "execute_result",
          "data": {
            "text/plain": [
              "(806, 1)"
            ]
          },
          "metadata": {},
          "execution_count": 37
        }
      ]
    },
    {
      "cell_type": "code",
      "source": [
        "#for plotting\n",
        "train = all_data[2000:4500]\n",
        "valid = all_data[4500:]\n",
        "\n",
        "valid['Predictions'] = preds\n",
        "\n",
        "plt.figure(figsize=(20,8))\n",
        "\n",
        "plt.plot(train['Close'])\n",
        "plt.plot(valid['Close'], color = 'blue', label = 'Real Price')\n",
        "plt.plot(valid['Predictions'], color = 'red', label = 'Predicted Price')\n",
        "\n",
        "plt.title('RELIANCE price prediction')\n",
        "plt.legend()\n",
        "plt.show()"
      ],
      "metadata": {
        "colab": {
          "base_uri": "https://localhost:8080/",
          "height": 603
        },
        "id": "WJ-L9GUB5E0y",
        "outputId": "dc7a00d6-7087-45e3-dd81-19733ec76005"
      },
      "execution_count": 38,
      "outputs": [
        {
          "output_type": "stream",
          "name": "stderr",
          "text": [
            "/usr/local/lib/python3.7/dist-packages/ipykernel_launcher.py:5: SettingWithCopyWarning: \n",
            "A value is trying to be set on a copy of a slice from a DataFrame.\n",
            "Try using .loc[row_indexer,col_indexer] = value instead\n",
            "\n",
            "See the caveats in the documentation: https://pandas.pydata.org/pandas-docs/stable/user_guide/indexing.html#returning-a-view-versus-a-copy\n",
            "  \"\"\"\n"
          ]
        },
        {
          "output_type": "display_data",
          "data": {
            "text/plain": [
              "<Figure size 1440x576 with 1 Axes>"
            ],
            "image/png": "[encoded data removed]"
          },
          "metadata": {
            "needs_background": "light"
          }
        }
      ]
    }
  ]
}